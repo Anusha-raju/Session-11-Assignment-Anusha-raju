{
 "cells": [
  {
   "cell_type": "code",
   "execution_count": 1,
   "id": "94638db5",
   "metadata": {},
   "outputs": [],
   "source": [
    "from polygon_sequence import Polygon_sequence as Polygon_sequence"
   ]
  },
  {
   "cell_type": "code",
   "execution_count": 2,
   "id": "3fa3c1c5",
   "metadata": {},
   "outputs": [],
   "source": [
    "n = 5\n",
    "r = 10"
   ]
  },
  {
   "cell_type": "code",
   "execution_count": 3,
   "id": "600d98a5",
   "metadata": {},
   "outputs": [],
   "source": [
    "p = Polygon_sequence(n,r)"
   ]
  },
  {
   "cell_type": "code",
   "execution_count": 4,
   "id": "2e53a73a",
   "metadata": {},
   "outputs": [
    {
     "data": {
      "text/plain": [
       "This is a polygon sequence of 3 elements with 5 as highest edge with common circumradius: 10"
      ]
     },
     "execution_count": 4,
     "metadata": {},
     "output_type": "execute_result"
    }
   ],
   "source": [
    "p"
   ]
  },
  {
   "cell_type": "code",
   "execution_count": 5,
   "id": "faeef3fe",
   "metadata": {},
   "outputs": [
    {
     "data": {
      "text/plain": [
       "[Polygon(n=3, R=10), Polygon(n=4, R=10), Polygon(n=5, R=10)]"
      ]
     },
     "execution_count": 5,
     "metadata": {},
     "output_type": "execute_result"
    }
   ],
   "source": [
    "p.sequence"
   ]
  },
  {
   "cell_type": "code",
   "execution_count": 6,
   "id": "881a5218",
   "metadata": {},
   "outputs": [],
   "source": [
    "p_iter = iter(p)"
   ]
  },
  {
   "cell_type": "markdown",
   "id": "955d2567",
   "metadata": {},
   "source": [
    "## p is 'iterable' and p_iter is 'iterator'"
   ]
  },
  {
   "cell_type": "code",
   "execution_count": 7,
   "id": "3f722bb1",
   "metadata": {},
   "outputs": [
    {
     "name": "stdout",
     "output_type": "stream",
     "text": [
      "True\n",
      "False\n"
     ]
    }
   ],
   "source": [
    "print('__iter__' in dir(p))\n",
    "print('__next__' in dir(p))"
   ]
  },
  {
   "cell_type": "code",
   "execution_count": 8,
   "id": "3c27151a",
   "metadata": {},
   "outputs": [
    {
     "name": "stdout",
     "output_type": "stream",
     "text": [
      "True\n",
      "True\n"
     ]
    }
   ],
   "source": [
    "print('__iter__' in dir(p_iter))\n",
    "print('__next__' in dir(p_iter))"
   ]
  },
  {
   "cell_type": "markdown",
   "id": "823eab98",
   "metadata": {},
   "source": [
    "### Iterable's    \\__iter__  method returns an Iterator"
   ]
  },
  {
   "cell_type": "code",
   "execution_count": 9,
   "id": "2b742c61",
   "metadata": {},
   "outputs": [
    {
     "data": {
      "text/plain": [
       "False"
      ]
     },
     "execution_count": 9,
     "metadata": {},
     "output_type": "execute_result"
    }
   ],
   "source": [
    "id(p) == id(p_iter)"
   ]
  },
  {
   "cell_type": "markdown",
   "id": "1b87d329",
   "metadata": {},
   "source": [
    "###  Iterator's \\__iter__  method returns itself"
   ]
  },
  {
   "cell_type": "code",
   "execution_count": 10,
   "id": "53de65ad",
   "metadata": {},
   "outputs": [
    {
     "data": {
      "text/plain": [
       "True"
      ]
     },
     "execution_count": 10,
     "metadata": {},
     "output_type": "execute_result"
    }
   ],
   "source": [
    "id(p_iter) == id(iter(p_iter))"
   ]
  },
  {
   "cell_type": "code",
   "execution_count": 11,
   "id": "4bd1988c",
   "metadata": {},
   "outputs": [
    {
     "data": {
      "text/plain": [
       "(Polygon(n=3, R=10), Polygon(n=4, R=10), Polygon(n=5, R=10))"
      ]
     },
     "execution_count": 11,
     "metadata": {},
     "output_type": "execute_result"
    }
   ],
   "source": [
    "next(p_iter),next(p_iter),next(p_iter)"
   ]
  },
  {
   "cell_type": "markdown",
   "id": "ee87c64d",
   "metadata": {},
   "source": [
    "***p_iter is an iterator hence raises an error (StopIteration) when it is exhausted.***"
   ]
  },
  {
   "cell_type": "code",
   "execution_count": 12,
   "id": "94de6b89",
   "metadata": {},
   "outputs": [
    {
     "ename": "StopIteration",
     "evalue": "",
     "output_type": "error",
     "traceback": [
      "\u001b[1;31m---------------------------------------------------------------------------\u001b[0m",
      "\u001b[1;31mStopIteration\u001b[0m                             Traceback (most recent call last)",
      "\u001b[1;32m<ipython-input-12-9858c488e78b>\u001b[0m in \u001b[0;36m<module>\u001b[1;34m\u001b[0m\n\u001b[1;32m----> 1\u001b[1;33m \u001b[0mnext\u001b[0m\u001b[1;33m(\u001b[0m\u001b[0mp_iter\u001b[0m\u001b[1;33m)\u001b[0m\u001b[1;33m\u001b[0m\u001b[1;33m\u001b[0m\u001b[0m\n\u001b[0m",
      "\u001b[1;32m~\\Desktop\\python_course\\Session-11-Assignment-Anusha-raju\\polygon_sequence.py\u001b[0m in \u001b[0;36m__next__\u001b[1;34m(self)\u001b[0m\n\u001b[0;32m     62\u001b[0m         \u001b[1;32mdef\u001b[0m \u001b[0m__next__\u001b[0m\u001b[1;33m(\u001b[0m\u001b[0mself\u001b[0m\u001b[1;33m)\u001b[0m\u001b[1;33m:\u001b[0m\u001b[1;33m\u001b[0m\u001b[1;33m\u001b[0m\u001b[0m\n\u001b[0;32m     63\u001b[0m             \u001b[1;32mif\u001b[0m \u001b[0mself\u001b[0m\u001b[1;33m.\u001b[0m\u001b[0m_index\u001b[0m \u001b[1;33m>=\u001b[0m \u001b[0mlen\u001b[0m\u001b[1;33m(\u001b[0m\u001b[0mself\u001b[0m\u001b[1;33m.\u001b[0m\u001b[0mpolygon_obj\u001b[0m\u001b[1;33m)\u001b[0m\u001b[1;33m:\u001b[0m\u001b[1;33m\u001b[0m\u001b[1;33m\u001b[0m\u001b[0m\n\u001b[1;32m---> 64\u001b[1;33m                 \u001b[1;32mraise\u001b[0m \u001b[0mStopIteration\u001b[0m\u001b[1;33m\u001b[0m\u001b[1;33m\u001b[0m\u001b[0m\n\u001b[0m\u001b[0;32m     65\u001b[0m             \u001b[1;32melse\u001b[0m\u001b[1;33m:\u001b[0m\u001b[1;33m\u001b[0m\u001b[1;33m\u001b[0m\u001b[0m\n\u001b[0;32m     66\u001b[0m                 \u001b[0mitem\u001b[0m \u001b[1;33m=\u001b[0m \u001b[0mself\u001b[0m\u001b[1;33m.\u001b[0m\u001b[0mpolygon_obj\u001b[0m\u001b[1;33m.\u001b[0m\u001b[0msequence\u001b[0m\u001b[1;33m[\u001b[0m\u001b[0mself\u001b[0m\u001b[1;33m.\u001b[0m\u001b[0m_index\u001b[0m\u001b[1;33m]\u001b[0m\u001b[1;33m\u001b[0m\u001b[1;33m\u001b[0m\u001b[0m\n",
      "\u001b[1;31mStopIteration\u001b[0m: "
     ]
    }
   ],
   "source": [
    "next(p_iter)"
   ]
  },
  {
   "cell_type": "markdown",
   "id": "2c3b3c33",
   "metadata": {},
   "source": [
    "##### p is an iterable not an iterator"
   ]
  },
  {
   "cell_type": "code",
   "execution_count": 13,
   "id": "3c712ffd",
   "metadata": {},
   "outputs": [
    {
     "ename": "TypeError",
     "evalue": "'Polygon_sequence' object is not an iterator",
     "output_type": "error",
     "traceback": [
      "\u001b[1;31m---------------------------------------------------------------------------\u001b[0m",
      "\u001b[1;31mTypeError\u001b[0m                                 Traceback (most recent call last)",
      "\u001b[1;32m<ipython-input-13-edf152ee890d>\u001b[0m in \u001b[0;36m<module>\u001b[1;34m\u001b[0m\n\u001b[1;32m----> 1\u001b[1;33m \u001b[0mnext\u001b[0m\u001b[1;33m(\u001b[0m\u001b[0mp\u001b[0m\u001b[1;33m)\u001b[0m\u001b[1;33m\u001b[0m\u001b[1;33m\u001b[0m\u001b[0m\n\u001b[0m",
      "\u001b[1;31mTypeError\u001b[0m: 'Polygon_sequence' object is not an iterator"
     ]
    }
   ],
   "source": [
    "next(p)"
   ]
  },
  {
   "cell_type": "code",
   "execution_count": 14,
   "id": "0a81f6c0",
   "metadata": {},
   "outputs": [
    {
     "name": "stdout",
     "output_type": "stream",
     "text": [
      "Help on Polygon_sequence in module polygon_sequence object:\n",
      "\n",
      "class Polygon_sequence(builtins.object)\n",
      " |  Polygon_sequence(highest_no_of_edges: int, circumradius: float) -> None\n",
      " |  \n",
      " |  This is a polygon sequence class used to develop a custom sequence\n",
      " |  \n",
      " |  Methods defined here:\n",
      " |  \n",
      " |  __getitem__(self, vertex) -> float\n",
      " |      This function returns the element of the sequence in  the desired vertex\n",
      " |  \n",
      " |  __init__(self, highest_no_of_edges: int, circumradius: float) -> None\n",
      " |      This is a constructor which initialises the highest number of edges/vertices and circumradius\n",
      " |  \n",
      " |  __iter__(self)\n",
      " |  \n",
      " |  __len__(self) -> int\n",
      " |      This is a length function\n",
      " |  \n",
      " |  __repr__(self) -> str\n",
      " |      This is a representation function\n",
      " |  \n",
      " |  ----------------------------------------------------------------------\n",
      " |  Readonly properties defined here:\n",
      " |  \n",
      " |  max_efficiency\n",
      " |      This function calculates the maximum_efficieny:highest area/perimeter ratio\n",
      " |  \n",
      " |  ----------------------------------------------------------------------\n",
      " |  Data descriptors defined here:\n",
      " |  \n",
      " |  __dict__\n",
      " |      dictionary for instance variables (if defined)\n",
      " |  \n",
      " |  __weakref__\n",
      " |      list of weak references to the object (if defined)\n",
      " |  \n",
      " |  ----------------------------------------------------------------------\n",
      " |  Data and other attributes defined here:\n",
      " |  \n",
      " |  PolygonIterator = <class 'polygon_sequence.Polygon_sequence.PolygonIte...\n",
      "\n"
     ]
    }
   ],
   "source": [
    "help(p)"
   ]
  },
  {
   "cell_type": "code",
   "execution_count": null,
   "id": "868523d2",
   "metadata": {},
   "outputs": [],
   "source": []
  }
 ],
 "metadata": {
  "kernelspec": {
   "display_name": "Python 3",
   "language": "python",
   "name": "python3"
  },
  "language_info": {
   "codemirror_mode": {
    "name": "ipython",
    "version": 3
   },
   "file_extension": ".py",
   "mimetype": "text/x-python",
   "name": "python",
   "nbconvert_exporter": "python",
   "pygments_lexer": "ipython3",
   "version": "3.8.8"
  }
 },
 "nbformat": 4,
 "nbformat_minor": 5
}
